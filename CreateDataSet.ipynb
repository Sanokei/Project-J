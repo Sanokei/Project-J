{
 "cells": [
  {
   "attachments": {},
   "cell_type": "markdown",
   "metadata": {},
   "source": [
    "# Create the Dataset\n",
    "Use the whisper API to get transcipts and then use ChatGPT to get if its interesting or not."
   ]
  },
  {
   "cell_type": "code",
   "execution_count": null,
   "metadata": {},
   "outputs": [],
   "source": [
    "%pip install pytube\n",
    "%pip install youtube-dl\n",
    "%pip install openai\n",
    "%pip install moviepy"
   ]
  },
  {
   "cell_type": "code",
   "execution_count": 5,
   "metadata": {},
   "outputs": [],
   "source": [
    "import config\n",
    "\n",
    "import pytube\n",
    "\n",
    "import requests\n",
    "import subprocess\n",
    "import os\n",
    "import shutil\n",
    "import ast\n",
    "\n",
    "import openai\n",
    "\n",
    "from moviepy.editor import VideoFileClip, concatenate_videoclips\n",
    "from moviepy.audio.io.AudioFileClip import AudioFileClip\n",
    "\n",
    "import youtube_dl"
   ]
  },
  {
   "cell_type": "code",
   "execution_count": 6,
   "metadata": {},
   "outputs": [],
   "source": [
    "openai.api_key = config.OAI_API_TOKEN"
   ]
  },
  {
   "cell_type": "code",
   "execution_count": null,
   "metadata": {},
   "outputs": [],
   "source": [
    "# YouTube video URL\n",
    "vid_url = \"https://www.youtube.com/watch?v=1aA1WGON49E\"\n",
    "fps = 30"
   ]
  },
  {
   "cell_type": "code",
   "execution_count": null,
   "metadata": {},
   "outputs": [],
   "source": [
    "# Get the audio stream\n",
    "audio_stream = pytube.YouTube(vid_url).streams.filter(only_audio=True).first()\n",
    "# Check if audio stream is not None before attempting to download it\n",
    "if audio_stream is not None:\n",
    "    # Download the audio stream\n",
    "    audio_file = audio_stream.download(filename=\"input.mp4\").replace(\"\\\\\",\"/\")\n",
    "else:\n",
    "    print(\"No audio stream found.\")\n"
   ]
  },
  {
   "attachments": {},
   "cell_type": "markdown",
   "metadata": {},
   "source": [
    "Break the video down into 25mb chunks"
   ]
  },
  {
   "cell_type": "code",
   "execution_count": null,
   "metadata": {},
   "outputs": [],
   "source": [
    "def split_file(input_file_path, chunk_size):\n",
    "    \"\"\"\n",
    "    Splits a file into smaller chunks and saves them to disk.\n",
    "    \"\"\"\n",
    "    with open(input_file_path, 'rb') as input_file:\n",
    "        for chunk_num, chunk in enumerate(iter(lambda: input_file.read(chunk_size), b'')):\n",
    "            # Save the chunk to disk\n",
    "            output_file_path = f\"videos/input_{chunk_num}.mp4\"\n",
    "            with open(output_file_path, 'wb') as output_file:\n",
    "                output_file.write(chunk)\n",
    "\n",
    "newpath = os.getcwd() + \"/videos/\"\n",
    "if not os.path.exists(newpath):\n",
    "    os.makedirs(newpath)\n",
    "    \n",
    "# Usage example\n",
    "input_file_path = 'input.mp4'\n",
    "chunk_size = 25 * 1024 * 1024  # 25MB in bytes\n",
    "split_file(input_file_path, chunk_size)"
   ]
  },
  {
   "attachments": {},
   "cell_type": "markdown",
   "metadata": {},
   "source": [
    "Create metadata for the files <br/>\n",
    "<sub>Start time and duration</sub>"
   ]
  },
  {
   "cell_type": "code",
   "execution_count": null,
   "metadata": {},
   "outputs": [],
   "source": [
    "newpath = os.getcwd() + \"/metadata/\"\n",
    "if not os.path.exists(newpath):\n",
    "    os.makedirs(newpath)\n",
    "\n",
    "for i, filename in enumerate(os.listdir('videos')):\n",
    "    start_time = 0.0\n",
    "    md_output_file_path = f\"metadata/input_{i}.txt\"\n",
    "    with open(md_output_file_path, 'w') as output_file:\n",
    "        clip = AudioFileClip('videos/'+filename)\n",
    "        duration = clip.duration\n",
    "        clip.close()\n",
    "        output_file.write(f\"[{start_time},{duration}]\")\n",
    "        start_time += duration"
   ]
  },
  {
   "attachments": {},
   "cell_type": "markdown",
   "metadata": {},
   "source": [
    "Input the audio into Whisper and get transcription\n"
   ]
  },
  {
   "cell_type": "code",
   "execution_count": null,
   "metadata": {},
   "outputs": [],
   "source": [
    "newpath = os.getcwd() + \"/chunks/\"\n",
    "if not os.path.exists(newpath):\n",
    "    os.makedirs(newpath)\n",
    "\n",
    "url = 'https://api.openai.com/v1/audio/transcriptions'\n",
    "headers = {\n",
    "    'Authorization': f'Bearer {config.OAI_API_TOKEN}'\n",
    "}\n",
    "data = {\n",
    "    'model':'whisper-1',\n",
    "    'prompt':'Woah! I for a fact don\\'t believe that... Okay, I know. I love those~'\n",
    "}\n",
    "for filename in os.listdir('videos'):\n",
    "    chunk_num = 0\n",
    "    with open(\"videos/\" + filename, \"rb\") as input_file:\n",
    "        files = {\n",
    "            'file':(filename,input_file)\n",
    "        }\n",
    "        transcription = requests.post(url=url, headers=headers, files=files, data=data)\n",
    "        output_file_path = f\"chunks/input_{chunk_num}.txt\"\n",
    "        with open(output_file_path, 'w') as output_file:\n",
    "            output_file.write(transcription.json().get('text'))\n",
    "        chunk_num += 1"
   ]
  },
  {
   "attachments": {},
   "cell_type": "markdown",
   "metadata": {},
   "source": [
    "Break down the texts into workable chunks"
   ]
  },
  {
   "cell_type": "code",
   "execution_count": null,
   "metadata": {},
   "outputs": [],
   "source": [
    "# TO DO"
   ]
  },
  {
   "attachments": {},
   "cell_type": "markdown",
   "metadata": {},
   "source": [
    "```\n",
    "Break this pragraph down into chunks (not specifically sentences but chunks of text that seem to be in the same coherence) that seem reasonable and then split those into quotes and seperate those by commas and form a python list. Only spit out the list format for the chunks (make sure there are no newlines or whitespaces).\n",
    "```"
   ]
  },
  {
   "attachments": {},
   "cell_type": "markdown",
   "metadata": {},
   "source": [
    "Get sentiment from ChatGPT and delete files that are negative"
   ]
  },
  {
   "cell_type": "code",
   "execution_count": null,
   "metadata": {},
   "outputs": [],
   "source": [
    "url = 'https://api.openai.com/v1/chat/completions'\n",
    "headers = {\n",
    "    'Authorization': f'Bearer {config.OAI_API_TOKEN}'\n",
    "}\n",
    "for filename in os.listdir('chunks'):\n",
    "    with open(\"chunks/\" + filename, \"r\") as input_file:\n",
    "        data = {\n",
    "            \"model\": \"gpt-3.5-turbo\",\n",
    "            \"messages\": [{\"role\": \"user\", \"content\": f\"respond with either 'pos' or 'neg' to if this sentence is entertaining or not in any definition you find as an AI model.\\n\\\"{input_file.read()}\\\"\"}] \n",
    "        }\n",
    "        response = requests.post(url=url, headers=headers, json=data)\n",
    "        sentiment = response.json().get('choices')[0].get('message').get('content')\n",
    "        if sentiment == 'neg':\n",
    "            if os.path.exists(\"metadata/\" + filename):\n",
    "                os.remove(\"metadata/\" + file_path)"
   ]
  },
  {
   "attachments": {},
   "cell_type": "markdown",
   "metadata": {},
   "source": [
    "Create Video from choosen segments"
   ]
  },
  {
   "cell_type": "code",
   "execution_count": 10,
   "metadata": {},
   "outputs": [],
   "source": [
    "url = 'https://api.openai.com/v1/chat/completions'\n",
    "headers = {\n",
    "    'Authorization': f'Bearer {config.OAI_API_TOKEN}'\n",
    "}\n",
    "data = {\n",
    "            \"model\": \"gpt-3.5-turbo\",\n",
    "            \"messages\": [{\"role\": \"user\", \"content\": f\"using python and ffmpeg through sub processes get a start and a duration and get clips from a video and then combine them\"}] \n",
    "        }\n",
    "response = requests.post(url=url, headers=headers, json=data)\n",
    "sentiment = response.json().get('choices')[0].get('message').get('content')"
   ]
  },
  {
   "cell_type": "code",
   "execution_count": 11,
   "metadata": {},
   "outputs": [
    {
     "name": "stdout",
     "output_type": "stream",
     "text": [
      "\n",
      "\n",
      "As an AI language model, I do not have access to the ffmpeg, so I will only provide you with a general outline of the procedure.\n",
      "\n",
      "Firstly, you can use the Python subprocess module to execute the ffmpeg commands. You’ll need to install the ffmpeg command-line tool on your machine for this.\n",
      "\n",
      "Secondly, you can use the ‘-ss’ and ‘-t’ commands to define the start and duration of each clip, respectively. For example, to get a 10-second clip starting at 30 seconds into a video named “video.mp4”, you’d use the following command:\n",
      "\n",
      "```\n",
      "ffmpeg -ss 00:00:30 -i video.mp4 -t 00:00:10 -c copy clip1.mp4\n",
      "```\n",
      "\n",
      "This would create a new video file called “clip1.mp4” that contains the 10-second clip.\n",
      "\n",
      "You can then repeat this for each clip you want to create.\n",
      "\n",
      "Finally, you can use the ‘concatenate’ command to join the individual clips into one complete video. For example, to join two clips named “clip1.mp4” and “clip2.mp4” into a single video named “output.mp4”, you’d use the following command:\n",
      "\n",
      "```\n",
      "ffmpeg -i \"concat:clip1.mp4|clip2.mp4\" -c copy output.mp4\n",
      "```\n",
      "\n",
      "This would combine the two input clips, with no re-encoding, into a single video file named “output.mp4”.\n",
      "\n",
      "Here is the code for the same:\n",
      "\n",
      "```python\n",
      "import subprocess\n",
      "\n",
      "# define your variables\n",
      "input_file = \"my_video.mp4\"\n",
      "output_file = \"my_clips.mp4\"\n",
      "\n",
      "# define your clips with start and duration time\n",
      "clips = [\n",
      "    {\"start\": 5 , \"duration\": 10},\n",
      "    {\"start\": 20 , \"duration\": 5}\n",
      "]\n",
      "\n",
      "# create the subprocess and join the clips\n",
      "cmds = []\n",
      "for i, clip in enumerate(clips):\n",
      "    start = clip.get(\"start\", 0)\n",
      "    duration = clip.get(\"duration\", 0)\n",
      "    cmds.append(['ffmpeg', '-i', input_file, '-ss', start, '-t', duration, '-c', 'copy', f'clip{i}.mp4'])\n",
      "\n",
      "with open(output_file, 'wb') as f:\n",
      "    for cmd in cmds:\n",
      "        subprocess.run(cmd, stdout=f, stderr=subprocess.PIPE, check=True)\n",
      "\n",
      "subprocess.run(['ffmpeg', '-f', 'concat', '-safe', '0', '-i', f'list.txt', '-c', 'copy', output_file], check=True)\n",
      "```\n",
      "Here are the steps followed:\n",
      "\n",
      "1. Define `input_file` and `output_file`. These are the paths to the source video and output file, respectively.\n",
      "\n",
      "2. Define a list of `clips` that you want to extract from the video. Each clip is defined by its `start` and `duration` times.\n",
      "\n",
      "3. Define a list of `cmds` to extract each clip using `ffmpeg`. Each command extracts a clip and writes it to a separate file (e.g. \"clip0.mp4\", \"clip1.mp4\", etc.)\n",
      "\n",
      "4. Execute each `cmd` using `subprocess.run`. Each clip is extracted using a separate command.\n",
      "\n",
      "5. Combine all clips into one video using `ffmpeg`'s concat command. Create a list of all the clip files and write the list to a file called `list.txt`. Then run the concat command with the list.txt file as input and write the output to `output_file`.\n",
      "\n",
      "The final video `my_clips.mp4` will contain all of the extracted clips in the order they were defined in the `clips` list.\n"
     ]
    }
   ],
   "source": [
    "print(sentiment)"
   ]
  },
  {
   "attachments": {},
   "cell_type": "markdown",
   "metadata": {},
   "source": [
    "Delete directories"
   ]
  },
  {
   "cell_type": "code",
   "execution_count": null,
   "metadata": {},
   "outputs": [],
   "source": [
    "newpath = [\"/metadata/\",\"/videos/\",\"/chunks/\"]\n",
    "for i in newpath:\n",
    "    if os.path.exists(os.getcwd() + i):\n",
    "        shutil.rmtree(os.getcwd() + i)"
   ]
  }
 ],
 "metadata": {
  "kernelspec": {
   "display_name": "Python 3",
   "language": "python",
   "name": "python3"
  },
  "language_info": {
   "codemirror_mode": {
    "name": "ipython",
    "version": 3
   },
   "file_extension": ".py",
   "mimetype": "text/x-python",
   "name": "python",
   "nbconvert_exporter": "python",
   "pygments_lexer": "ipython3",
   "version": "3.11.0"
  },
  "orig_nbformat": 4
 },
 "nbformat": 4,
 "nbformat_minor": 2
}
